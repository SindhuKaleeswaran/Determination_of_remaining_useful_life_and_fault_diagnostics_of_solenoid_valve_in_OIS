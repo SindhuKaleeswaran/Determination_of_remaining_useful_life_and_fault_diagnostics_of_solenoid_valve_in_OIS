{
 "cells": [
  {
   "cell_type": "code",
   "execution_count": 1,
   "id": "e7fd0a16",
   "metadata": {},
   "outputs": [],
   "source": [
    "import pandas as pd\n",
    "from sklearn.model_selection import train_test_split\n",
    "\n",
    "\n",
    "data = pd.read_excel(r\"C:\\Users\\Sindhu\\mapping_output.xlsx\")\n",
    "\n",
    "data_test = pd.read_excel(r\"C:\\Users\\Sindhu\\mapping_output_test.xlsx\")"
   ]
  },
  {
   "cell_type": "code",
   "execution_count": 2,
   "id": "68b8bdfc",
   "metadata": {},
   "outputs": [
    {
     "name": "stdout",
     "output_type": "stream",
     "text": [
      "WARNING:tensorflow:From C:\\Users\\Sindhu\\AppData\\Roaming\\Python\\Python311\\site-packages\\keras\\src\\losses.py:2976: The name tf.losses.sparse_softmax_cross_entropy is deprecated. Please use tf.compat.v1.losses.sparse_softmax_cross_entropy instead.\n",
      "\n"
     ]
    }
   ],
   "source": [
    "import numpy as np\n",
    "import tensorflow as tf\n",
    "from tensorflow.keras.preprocessing.image import load_img, img_to_array\n",
    "from tensorflow.keras.models import Sequential\n",
    "from tensorflow.keras.layers import Conv2D, MaxPooling2D, Flatten, Dense\n",
    "from sklearn.metrics import accuracy_score"
   ]
  },
  {
   "cell_type": "code",
   "execution_count": 3,
   "id": "35ef63e2",
   "metadata": {},
   "outputs": [],
   "source": [
    "import numpy as np\n",
    "import pandas as pd\n",
    "import tensorflow as tf \n",
    "\n",
    "from keras.preprocessing.image import ImageDataGenerator, load_img\n",
    "from keras.utils import to_categorical\n",
    "from keras import optimizers\n",
    "from keras.optimizers import SGD, RMSprop, Adam\n",
    "from sklearn.model_selection import train_test_split\n",
    "from keras.utils import to_categorical\n",
    "from keras.callbacks import EarlyStopping\n",
    "\n",
    "import matplotlib.pyplot as plt \n",
    "import random\n",
    "import cv2\n",
    "import os\n",
    "import time\n",
    "import splitfolders "
   ]
  },
  {
   "cell_type": "code",
   "execution_count": 4,
   "id": "ad811590",
   "metadata": {},
   "outputs": [],
   "source": [
    "X = data['Path']  \n",
    "y = data['RUL']         "
   ]
  },
  {
   "cell_type": "code",
   "execution_count": 5,
   "id": "d066a943",
   "metadata": {},
   "outputs": [],
   "source": [
    "X_new = data_test['Path']  \n",
    "y_new = data_test['RUL'] "
   ]
  },
  {
   "cell_type": "code",
   "execution_count": 6,
   "id": "47db6a02",
   "metadata": {},
   "outputs": [],
   "source": [
    "X_train, X_test, y_train, y_test = train_test_split(X, y, test_size=0.2, random_state=42)"
   ]
  },
  {
   "cell_type": "code",
   "execution_count": 7,
   "id": "c7858cc6",
   "metadata": {},
   "outputs": [],
   "source": [
    "def load_and_preprocess_images(image_paths):\n",
    "    images = []\n",
    "    for path in image_paths:\n",
    "        img = load_img(path, target_size=(100,100))\n",
    "        img_array = img_to_array(img) / 255.0  \n",
    "        images.append(img_array)\n",
    "    return np.array(images)"
   ]
  },
  {
   "cell_type": "code",
   "execution_count": 8,
   "id": "43df03fd",
   "metadata": {},
   "outputs": [],
   "source": [
    "X_train_processed = load_and_preprocess_images(X_train)\n",
    "X_test_processed = load_and_preprocess_images(X_test)"
   ]
  },
  {
   "cell_type": "code",
   "execution_count": 9,
   "id": "d6e4a047",
   "metadata": {},
   "outputs": [],
   "source": [
    "X_new_processed = load_and_preprocess_images(X_new)"
   ]
  },
  {
   "cell_type": "code",
   "execution_count": 10,
   "id": "3a7665ee",
   "metadata": {},
   "outputs": [
    {
     "name": "stdout",
     "output_type": "stream",
     "text": [
      "Training set: IMAGES (X): 2880 LABELS(y): 2880 \n",
      "Test set : IMAGES (X): 720 LABELS(y): 720\n"
     ]
    }
   ],
   "source": [
    "print(\"Training set:\",\n",
    "      \"IMAGES (X):\",X_train.shape[0], \n",
    "      \"LABELS(y):\", y_train.shape[0] ,\n",
    "      \"\\nTest set :\" ,\n",
    "      \"IMAGES (X):\", X_test.shape[0],\n",
    "      \"LABELS(y):\", y_test.shape[0])"
   ]
  },
  {
   "cell_type": "code",
   "execution_count": 13,
   "id": "1f8d9343",
   "metadata": {},
   "outputs": [
    {
     "data": {
      "image/png": "[encoded data removed]",
      "text/plain": [
       "<Figure size 1000x1000 with 10 Axes>"
      ]
     },
     "metadata": {},
     "output_type": "display_data"
    }
   ],
   "source": [
    "# A random sample of 10 images from the dataset.\n",
    "plt.figure(figsize=(10, 10))\n",
    "for i in range(10,20):\n",
    "    plt.subplot(5,5,i+1)\n",
    "    plt.grid(False)\n",
    "    plt.xticks([])\n",
    "    plt.yticks([])\n",
    "    plt.title('RUL: {:.2f}'.format(y_new.iloc[i]))  \n",
    "    plt.tight_layout(pad=2)\n",
    "    plt.imshow(X_new_processed.squeeze()[i], cmap=plt.cm.binary)\n",
    "plt.show()\n"
   ]
  },
  {
   "cell_type": "code",
   "execution_count": 11,
   "id": "0eacb758",
   "metadata": {},
   "outputs": [],
   "source": [
    "def rgb_to_grayscale(images):\n",
    "    return np.dot(images[..., :3], [0.2989, 0.5870, 0.1140])\n",
    "\n",
    "X_train_processed = load_and_preprocess_images(X_train)\n",
    "X_train_processed = rgb_to_grayscale(X_train_processed)\n",
    "X_new_processed = load_and_preprocess_images(X_new)\n",
    "X_new_processed = rgb_to_grayscale(X_new_processed)"
   ]
  },
  {
   "cell_type": "code",
   "execution_count": 13,
   "id": "6851fd25",
   "metadata": {},
   "outputs": [],
   "source": [
    "import numpy as np\n",
    "\n",
    "X_train_processed = np.expand_dims(X_train_processed, axis=-1)\n"
   ]
  },
  {
   "cell_type": "code",
   "execution_count": 14,
   "id": "9d6ea330",
   "metadata": {},
   "outputs": [],
   "source": [
    "X_new_processed = np.expand_dims(X_new_processed, axis=-1)\n"
   ]
  },
  {
   "cell_type": "code",
   "execution_count": 19,
   "id": "ea60b62f",
   "metadata": {},
   "outputs": [],
   "source": [
    "import numpy as np\n",
    "import tensorflow as tf\n",
    "from tensorflow.keras.preprocessing.image import load_img, img_to_array"
   ]
  },
  {
   "cell_type": "code",
   "execution_count": 20,
   "id": "1f9863ab",
   "metadata": {},
   "outputs": [],
   "source": [
    "import numpy as np\n",
    "import tensorflow as tf\n",
    "from tensorflow.keras.preprocessing.image import load_img, img_to_array\n",
    "\n",
    "class BayesianCNN(tf.keras.Model):\n",
    "    def __init__(self):\n",
    "        super(BayesianCNN, self).__init__()\n",
    "        self.conv1 = tf.keras.layers.Conv2D(32, (3, 3), activation='relu', groups=1)\n",
    "        self.flatten = tf.keras.layers.Flatten()\n",
    "        self.dense1 = tf.keras.layers.Dense(128, activation='relu')\n",
    "        self.dropout = tf.keras.layers.Dropout(0.5)\n",
    "        self.dense2 = tf.keras.layers.Dense(1)\n",
    "\n",
    "    def call(self, inputs):\n",
    "        x = self.conv1(inputs)\n",
    "        x = self.flatten(x)\n",
    "        x = self.dense1(x)\n",
    "        x = self.dropout(x)\n",
    "        return self.dense2(x)"
   ]
  },
  {
   "cell_type": "code",
   "execution_count": 21,
   "id": "5213f713",
   "metadata": {},
   "outputs": [
    {
     "name": "stdout",
     "output_type": "stream",
     "text": [
      "WARNING:tensorflow:From C:\\Users\\Sindhu\\AppData\\Roaming\\Python\\Python311\\site-packages\\keras\\src\\backend.py:873: The name tf.get_default_graph is deprecated. Please use tf.compat.v1.get_default_graph instead.\n",
      "\n"
     ]
    }
   ],
   "source": [
    "bayesian_cnn = BayesianCNN()"
   ]
  },
  {
   "cell_type": "code",
   "execution_count": 22,
   "id": "b3b02582",
   "metadata": {},
   "outputs": [
    {
     "name": "stderr",
     "output_type": "stream",
     "text": [
      "WARNING:absl:`lr` is deprecated in Keras optimizer, please use `learning_rate` or use the legacy optimizer, e.g.,tf.keras.optimizers.legacy.Adam.\n"
     ]
    }
   ],
   "source": [
    "bayesian_cnn.compile(optimizer=Adam(lr=0.01), loss='mae', metrics=['mae'])"
   ]
  },
  {
   "cell_type": "code",
   "execution_count": 23,
   "id": "f90351de",
   "metadata": {},
   "outputs": [
    {
     "name": "stdout",
     "output_type": "stream",
     "text": [
      "Epoch 1/9\n",
      "WARNING:tensorflow:From C:\\Users\\Sindhu\\AppData\\Roaming\\Python\\Python311\\site-packages\\keras\\src\\utils\\tf_utils.py:492: The name tf.ragged.RaggedTensorValue is deprecated. Please use tf.compat.v1.ragged.RaggedTensorValue instead.\n",
      "\n"
     ]
    },
    {
     "name": "stderr",
     "output_type": "stream",
     "text": [
      "WARNING:tensorflow:From C:\\Users\\Sindhu\\AppData\\Roaming\\Python\\Python311\\site-packages\\keras\\src\\utils\\tf_utils.py:492: The name tf.ragged.RaggedTensorValue is deprecated. Please use tf.compat.v1.ragged.RaggedTensorValue instead.\n",
      "\n"
     ]
    },
    {
     "name": "stdout",
     "output_type": "stream",
     "text": [
      "WARNING:tensorflow:From C:\\Users\\Sindhu\\AppData\\Roaming\\Python\\Python311\\site-packages\\keras\\src\\engine\\base_layer_utils.py:384: The name tf.executing_eagerly_outside_functions is deprecated. Please use tf.compat.v1.executing_eagerly_outside_functions instead.\n",
      "\n"
     ]
    },
    {
     "name": "stderr",
     "output_type": "stream",
     "text": [
      "WARNING:tensorflow:From C:\\Users\\Sindhu\\AppData\\Roaming\\Python\\Python311\\site-packages\\keras\\src\\engine\\base_layer_utils.py:384: The name tf.executing_eagerly_outside_functions is deprecated. Please use tf.compat.v1.executing_eagerly_outside_functions instead.\n",
      "\n"
     ]
    },
    {
     "name": "stdout",
     "output_type": "stream",
     "text": [
      "144/144 [==============================] - 48s 317ms/step - loss: 2.7826 - mae: 2.7826 - val_loss: 1.3961 - val_mae: 1.3961\n",
      "Epoch 2/9\n",
      "144/144 [==============================] - 42s 289ms/step - loss: 1.9661 - mae: 1.9661 - val_loss: 1.2481 - val_mae: 1.2481\n",
      "Epoch 3/9\n",
      "144/144 [==============================] - 42s 290ms/step - loss: 1.8206 - mae: 1.8206 - val_loss: 1.5669 - val_mae: 1.5669\n",
      "Epoch 4/9\n",
      "144/144 [==============================] - 40s 279ms/step - loss: 1.6980 - mae: 1.6980 - val_loss: 1.1466 - val_mae: 1.1466\n",
      "Epoch 5/9\n",
      "144/144 [==============================] - 41s 283ms/step - loss: 1.7393 - mae: 1.7393 - val_loss: 1.1578 - val_mae: 1.1578\n",
      "Epoch 6/9\n",
      "144/144 [==============================] - 43s 297ms/step - loss: 1.6598 - mae: 1.6598 - val_loss: 1.2904 - val_mae: 1.2904\n",
      "Epoch 7/9\n",
      "144/144 [==============================] - 42s 288ms/step - loss: 1.6407 - mae: 1.6407 - val_loss: 1.1586 - val_mae: 1.1586\n",
      "Epoch 8/9\n",
      "144/144 [==============================] - 40s 280ms/step - loss: 1.5992 - mae: 1.5992 - val_loss: 1.1614 - val_mae: 1.1614\n",
      "Epoch 9/9\n",
      "144/144 [==============================] - 40s 275ms/step - loss: 1.5544 - mae: 1.5544 - val_loss: 1.1069 - val_mae: 1.1069\n"
     ]
    }
   ],
   "source": [
    "history = bayesian_cnn.fit(X_train_processed, y_train, batch_size=16, epochs=9, validation_split=0.2)"
   ]
  },
  {
   "cell_type": "code",
   "execution_count": 33,
   "id": "15e8820a",
   "metadata": {},
   "outputs": [],
   "source": [
    "import matplotlib.pyplot as plt\n",
    "loss = history.history['loss']\n",
    "mse = history.history['mae']\n",
    "epochs = range(1, len(loss) + 1)"
   ]
  },
  {
   "cell_type": "code",
   "execution_count": 34,
   "id": "a9088634",
   "metadata": {},
   "outputs": [
    {
     "data": {
      "text/plain": [
       "Text(0.5, 0, 'Epochs')"
      ]
     },
     "execution_count": 34,
     "metadata": {},
     "output_type": "execute_result"
    },
    {
     "data": {
      "image/png": "[encoded data removed]",
      "text/plain": [
       "<Figure size 1000x600 with 1 Axes>"
      ]
     },
     "metadata": {},
     "output_type": "display_data"
    }
   ],
   "source": [
    "plt.figure(figsize=(10, 6))\n",
    "plt.plot(epochs, loss, 'b', label='Loss')\n",
    "plt.title('Training Loss')\n",
    "plt.xlabel('Epochs')"
   ]
  },
  {
   "cell_type": "code",
   "execution_count": 29,
   "id": "3bcff1e9",
   "metadata": {},
   "outputs": [
    {
     "ename": "SyntaxError",
     "evalue": "unterminated triple-quoted string literal (detected at line 2) (1815943406.py, line 2)",
     "output_type": "error",
     "traceback": [
      "\u001b[1;36m  Cell \u001b[1;32mIn[29], line 2\u001b[1;36m\u001b[0m\n\u001b[1;33m    '''bayesian_cnn.save_weights('bcnn_model_weights.h5')\u001b[0m\n\u001b[1;37m    ^\u001b[0m\n\u001b[1;31mSyntaxError\u001b[0m\u001b[1;31m:\u001b[0m unterminated triple-quoted string literal (detected at line 2)\n"
     ]
    }
   ],
   "source": [
    "\n",
    "bayesian_cnn.save_weights('bcnn_model_weights.h5')"
   ]
  },
  {
   "cell_type": "code",
   "execution_count": null,
   "id": "36cdf5dd",
   "metadata": {},
   "outputs": [],
   "source": [
    "\n",
    "bayesian_cnn.save('bcnn_model_save', save_format='tf')\n"
   ]
  },
  {
   "cell_type": "code",
   "execution_count": 15,
   "id": "9b70e50c",
   "metadata": {},
   "outputs": [
    {
     "name": "stdout",
     "output_type": "stream",
     "text": [
      "WARNING:tensorflow:From C:\\Users\\Sindhu\\AppData\\Roaming\\Python\\Python311\\site-packages\\keras\\src\\saving\\legacy\\saved_model\\load.py:107: The name tf.gfile.Exists is deprecated. Please use tf.io.gfile.exists instead.\n",
      "\n",
      "WARNING:tensorflow:From C:\\Users\\Sindhu\\AppData\\Roaming\\Python\\Python311\\site-packages\\keras\\src\\saving\\legacy\\saved_model\\load.py:1113: The name tf.executing_eagerly_outside_functions is deprecated. Please use tf.compat.v1.executing_eagerly_outside_functions instead.\n",
      "\n"
     ]
    }
   ],
   "source": [
    "import tensorflow as tf\n",
    "loaded_model = tf.keras.models.load_model('bcnn_model_save')"
   ]
  },
  {
   "cell_type": "code",
   "execution_count": 16,
   "id": "39b007e7",
   "metadata": {},
   "outputs": [
    {
     "name": "stdout",
     "output_type": "stream",
     "text": [
      "23/23 [==============================] - 3s 39ms/step\n"
     ]
    }
   ],
   "source": [
    "import tensorflow as tf\n",
    "from tensorflow.keras.layers import Layer, BatchNormalization\n",
    "from tensorflow.keras.optimizers import Adam\n",
    "from tensorflow.keras.regularizers import l2\n",
    "from sklearn.preprocessing import StandardScaler\n",
    "from sklearn.model_selection import train_test_split\n",
    "\n",
    "# Load and preprocess your data\n",
    "X_test_processed = load_and_preprocess_images(X_test)\n",
    "X_test_processed = rgb_to_grayscale(X_test_processed)\n",
    "X_test_processed = np.expand_dims(X_test_processed, axis=-1)\n",
    "y_pred = loaded_model.predict(X_test_processed)"
   ]
  },
  {
   "cell_type": "code",
   "execution_count": 17,
   "id": "94687216",
   "metadata": {},
   "outputs": [],
   "source": [
    "class BayesianDenseVI(Layer):\n",
    "    def __init__(self, units, activation='relu'):\n",
    "        super(BayesianDenseVI, self).__init__()\n",
    "        self.units = units\n",
    "        self.activation = tf.keras.activations.get(activation)\n",
    "        self.batch_norm = BatchNormalization()\n",
    "\n",
    "    def build(self, input_shape):\n",
    "        self.mean = self.add_weight(shape=(input_shape[-1], self.units),\n",
    "                                     initializer='random_normal',\n",
    "                                     trainable=True,\n",
    "                                     name='mean')\n",
    "        self.rho = self.add_weight(shape=(input_shape[-1], self.units),\n",
    "                                    initializer='zeros',\n",
    "                                    trainable=True,\n",
    "                                    name='rho')\n",
    "\n",
    "    def call(self, inputs):\n",
    "        epsilon = tf.random.normal(shape=tf.shape(self.mean))\n",
    "        weights = self.mean + tf.math.log(1 + tf.exp(self.rho)) * epsilon\n",
    "        x = tf.matmul(inputs, weights)\n",
    "        x = self.batch_norm(x)\n",
    "        return self.activation(x)\n"
   ]
  },
  {
   "cell_type": "code",
   "execution_count": 18,
   "id": "26028fcf",
   "metadata": {},
   "outputs": [],
   "source": [
    "pretrained_model_path = r'C:\\Users\\Sindhu\\Major\\bcnn_model_save'\n",
    "pre_trained_model = tf.keras.models.load_model(pretrained_model_path)\n",
    "\n",
    "for layer in pre_trained_model.layers[:-4]:\n",
    "    layer.trainable = False\n",
    "    \n",
    "pre_trained_model.layers[-1] = BayesianDenseVI(units=1, activation='relu')\n",
    "\n",
    "def kl_divergence_regularizer(model):\n",
    "    kl_loss = sum(model.losses)\n",
    "    return kl_loss\n",
    "\n",
    "def custom_loss(y_true, y_pred):\n",
    "    original_loss = tf.keras.losses.mean_absolute_error(y_true, y_pred)\n",
    "    kl_loss = kl_divergence_regularizer(pre_trained_model)\n",
    "    return original_loss + kl_loss\n"
   ]
  },
  {
   "cell_type": "code",
   "execution_count": 19,
   "id": "049a4d7c",
   "metadata": {},
   "outputs": [
    {
     "name": "stderr",
     "output_type": "stream",
     "text": [
      "WARNING:absl:`lr` is deprecated in Keras optimizer, please use `learning_rate` or use the legacy optimizer, e.g.,tf.keras.optimizers.legacy.Adam.\n"
     ]
    }
   ],
   "source": [
    "optimizer = Adam(lr=0.000001)  # Adjust learning rate\n",
    "\n",
    "pre_trained_model.compile(optimizer=optimizer, loss=custom_loss, metrics=['mae'])\n"
   ]
  },
  {
   "cell_type": "code",
   "execution_count": 20,
   "id": "73e84056",
   "metadata": {},
   "outputs": [
    {
     "name": "stdout",
     "output_type": "stream",
     "text": [
      "Epoch 1/10\n",
      "WARNING:tensorflow:From C:\\Users\\Sindhu\\AppData\\Roaming\\Python\\Python311\\site-packages\\keras\\src\\utils\\tf_utils.py:492: The name tf.ragged.RaggedTensorValue is deprecated. Please use tf.compat.v1.ragged.RaggedTensorValue instead.\n",
      "\n"
     ]
    },
    {
     "name": "stderr",
     "output_type": "stream",
     "text": [
      "WARNING:tensorflow:From C:\\Users\\Sindhu\\AppData\\Roaming\\Python\\Python311\\site-packages\\keras\\src\\utils\\tf_utils.py:492: The name tf.ragged.RaggedTensorValue is deprecated. Please use tf.compat.v1.ragged.RaggedTensorValue instead.\n",
      "\n"
     ]
    },
    {
     "name": "stdout",
     "output_type": "stream",
     "text": [
      "WARNING:tensorflow:From C:\\Users\\Sindhu\\AppData\\Roaming\\Python\\Python311\\site-packages\\keras\\src\\engine\\base_layer_utils.py:384: The name tf.executing_eagerly_outside_functions is deprecated. Please use tf.compat.v1.executing_eagerly_outside_functions instead.\n",
      "\n"
     ]
    },
    {
     "name": "stderr",
     "output_type": "stream",
     "text": [
      "WARNING:tensorflow:From C:\\Users\\Sindhu\\AppData\\Roaming\\Python\\Python311\\site-packages\\keras\\src\\engine\\base_layer_utils.py:384: The name tf.executing_eagerly_outside_functions is deprecated. Please use tf.compat.v1.executing_eagerly_outside_functions instead.\n",
      "\n"
     ]
    },
    {
     "name": "stdout",
     "output_type": "stream",
     "text": [
      "10/10 [==============================] - 11s 630ms/step - loss: 1.7474 - mae: 1.7474 - val_loss: 0.9905 - val_mae: 0.9905\n",
      "Epoch 2/10\n",
      "10/10 [==============================] - 3s 295ms/step - loss: 1.6840 - mae: 1.6840 - val_loss: 1.1697 - val_mae: 1.1697\n",
      "Epoch 3/10\n",
      "10/10 [==============================] - 3s 282ms/step - loss: 1.5774 - mae: 1.5774 - val_loss: 1.0902 - val_mae: 1.0902\n",
      "Epoch 4/10\n",
      "10/10 [==============================] - 3s 311ms/step - loss: 1.5171 - mae: 1.5171 - val_loss: 0.9185 - val_mae: 0.9185\n",
      "Epoch 5/10\n",
      "10/10 [==============================] - 3s 291ms/step - loss: 1.5583 - mae: 1.5583 - val_loss: 1.1404 - val_mae: 1.1404\n",
      "Epoch 6/10\n",
      "10/10 [==============================] - 3s 290ms/step - loss: 1.5852 - mae: 1.5852 - val_loss: 1.2222 - val_mae: 1.2222\n",
      "Epoch 7/10\n",
      "10/10 [==============================] - 3s 280ms/step - loss: 1.5816 - mae: 1.5816 - val_loss: 0.9680 - val_mae: 0.9680\n",
      "Epoch 8/10\n",
      "10/10 [==============================] - 3s 311ms/step - loss: 1.7548 - mae: 1.7548 - val_loss: 1.0051 - val_mae: 1.0051\n",
      "Epoch 9/10\n",
      "10/10 [==============================] - 3s 306ms/step - loss: 1.6444 - mae: 1.6444 - val_loss: 0.9805 - val_mae: 0.9805\n"
     ]
    }
   ],
   "source": [
    "early_stopping = tf.keras.callbacks.EarlyStopping(patience=5, restore_best_weights=True)\n",
    "\n",
    "# Train the model\n",
    "history_transfer_learning = pre_trained_model.fit(X_new_processed, y_new, \n",
    "                                                  batch_size=16, \n",
    "                                                  epochs=10, \n",
    "                                                  validation_data=(X_new_processed, y_new), \n",
    "                                                  callbacks=[early_stopping])\n"
   ]
  },
  {
   "cell_type": "code",
   "execution_count": 31,
   "id": "822b81aa",
   "metadata": {},
   "outputs": [
    {
     "data": {
      "image/png": "[encoded data removed]",
      "text/plain": [
       "<Figure size 640x480 with 1 Axes>"
      ]
     },
     "metadata": {},
     "output_type": "display_data"
    }
   ],
   "source": [
    "import matplotlib.pyplot as plt\n",
    "plt.plot(history.history['mae'], label='MAE Loss (BayesianCNN)')\n",
    "plt.plot(history_transfer_learning.history['loss'], label='Custom Loss (Pre-trained Model)')\n",
    "plt.title('MAE Loss vs. Custom Loss')\n",
    "plt.xlabel('Epoch')\n",
    "plt.ylabel('Loss')\n",
    "plt.legend()\n",
    "plt.show()"
   ]
  },
  {
   "cell_type": "code",
   "execution_count": 60,
   "id": "d49d8037",
   "metadata": {},
   "outputs": [
    {
     "data": {
      "image/png": "[encoded data removed]",
      "text/plain": [
       "<Figure size 1600x800 with 32 Axes>"
      ]
     },
     "metadata": {},
     "output_type": "display_data"
    }
   ],
   "source": [
    "import matplotlib.pyplot as plt\n",
    "\n",
    "# Extract and visualize convolutional filters\n",
    "filters, biases = bayesian_cnn.conv1.get_weights()\n",
    "f_min, f_max = filters.min(), filters.max()\n",
    "filters = (filters - f_min) / (f_max - f_min)\n",
    "\n",
    "def feature_dropout_importance(model, X, y_true):\n",
    "    baseline_loss, _ = model.evaluate(X, y_true, verbose=0)\n",
    "    importance_scores = []\n",
    "    for i in range(X.shape[1]):\n",
    "        X_drop = X.copy()\n",
    "        X_drop[:, i] = 0\n",
    "        loss_drop, _ = model.evaluate(X_drop, y_true, verbose=0)\n",
    "        importance_score = (baseline_loss - loss_drop) / baseline_loss\n",
    "        importance_scores.append(importance_score)\n",
    "    return importance_scores\n",
    "\n",
    "   \n",
    "n_filters = filters.shape[3]\n",
    "rows = 4\n",
    "cols = n_filters // rows\n",
    "\n",
    "plt.figure(figsize=(cols * 2, rows * 2))\n",
    "\n",
    "for i in range(n_filters):\n",
    "    f = filters[:, :, 0, i]  # Accessing the first channel of the filter\n",
    "    plt.subplot(rows, cols, i+1)\n",
    "    plt.imshow(f, cmap='viridis')\n",
    "    plt.title(f'Filter {i+1}')\n",
    "    plt.axis('off')\n",
    "\n",
    "plt.tight_layout()\n",
    "plt.show()\n"
   ]
  },
  {
   "cell_type": "code",
   "execution_count": 36,
   "id": "8cd282d9",
   "metadata": {},
   "outputs": [
    {
     "name": "stdout",
     "output_type": "stream",
     "text": [
      "1/1 [==============================] - 1s 1s/step\n",
      "RUL : 7 hrs and 41 mins left\n",
      "System is Safe\n"
     ]
    },
    {
     "data": {
      "image/png": "[encoded data removed]",
      "text/plain": [
       "<Figure size 640x480 with 1 Axes>"
      ]
     },
     "metadata": {},
     "output_type": "display_data"
    }
   ],
   "source": [
    "import numpy as np\n",
    "from tensorflow.keras.preprocessing.image import load_img, img_to_array\n",
    "image_path = r'C:\\Users\\Sindhu\\3class_intensity\\1101.png'\n",
    "img = load_img(image_path, target_size=(100, 100), color_mode='grayscale') \n",
    "img_array = img_to_array(img) / 255.0  \n",
    "input_image = np.expand_dims(img_array, axis=0)\n",
    "prediction = pre_trained_model.predict(input_image)\n",
    "plt.imshow(img)\n",
    "#print(\"RUL Predicted value:\", prediction)\n",
    "#print(f\"RUL : {prediction[0][0]:.2f} hrs\")\n",
    "pred = round(prediction[0][0], 1)\n",
    "#print(pred)\n",
    "def convert_decimal_to_time(decimal_value):\n",
    "    hours = int(decimal_value) \n",
    "    minutes = int((decimal_value - hours) * 60)  \n",
    "    return f\"{hours} hrs and {minutes:02d} mins\"  \n",
    "time_string = convert_decimal_to_time(pred)\n",
    " \n",
    "print(f\"RUL : {time_string} left\")\n",
    "\n",
    "if(prediction>=6 and prediction<=10):\n",
    "    print(\"System is Safe\")\n",
    "elif(prediction>=4 and prediction<6):\n",
    "    print(\"Defective Realm\")\n",
    "elif(prediction<4):\n",
    "    print(\"ALERT: EOL!!!\")\n",
    "else:\n",
    "    print(\"Error Calculating\")"
   ]
  },
  {
   "cell_type": "code",
   "execution_count": 36,
   "id": "f488fa1a",
   "metadata": {},
   "outputs": [
    {
     "name": "stdout",
     "output_type": "stream",
     "text": [
      "1/1 [==============================] - 0s 72ms/step\n",
      "Image 672.png - Predicted RUL: [[6.230028]]\n",
      "1/1 [==============================] - 0s 96ms/step\n",
      "Image 2123.png - Predicted RUL: [[3.825014]]\n",
      "1/1 [==============================] - 0s 81ms/step\n",
      "Image 3149.png - Predicted RUL: [[2.5444686]]\n",
      "1/1 [==============================] - 0s 80ms/step\n",
      "Image 2971.png - Predicted RUL: [[1.5405512]]\n",
      "1/1 [==============================] - 0s 76ms/step\n",
      "Image 3083.png - Predicted RUL: [[1.0979043]]\n",
      "1/1 [==============================] - 0s 67ms/step\n",
      "Image 1212.png - Predicted RUL: [[3.0518818]]\n",
      "1/1 [==============================] - 0s 71ms/step\n",
      "Image 3081.png - Predicted RUL: [[2.9320433]]\n",
      "1/1 [==============================] - 0s 79ms/step\n",
      "Image 2456.png - Predicted RUL: [[3.4580348]]\n",
      "1/1 [==============================] - 0s 81ms/step\n",
      "Image 3335.png - Predicted RUL: [[2.7919693]]\n",
      "1/1 [==============================] - 0s 73ms/step\n",
      "Image 2916.png - Predicted RUL: [[3.3057485]]\n",
      "1/1 [==============================] - 0s 60ms/step\n",
      "Image 922.png - Predicted RUL: [[6.1121492]]\n",
      "1/1 [==============================] - 0s 78ms/step\n",
      "Image 1486.png - Predicted RUL: [[3.8050575]]\n",
      "1/1 [==============================] - 0s 87ms/step\n",
      "Image 549.png - Predicted RUL: [[6.0959845]]\n",
      "1/1 [==============================] - 0s 77ms/step\n",
      "Image 2882.png - Predicted RUL: [[2.3790605]]\n",
      "1/1 [==============================] - 0s 75ms/step\n",
      "Image 3364.png - Predicted RUL: [[3.2853289]]\n",
      "1/1 [==============================] - 0s 81ms/step\n",
      "Image 284.png - Predicted RUL: [[5.882635]]\n",
      "1/1 [==============================] - 0s 83ms/step\n",
      "Image 1919.png - Predicted RUL: [[3.4870303]]\n",
      "1/1 [==============================] - 0s 79ms/step\n",
      "Image 1506.png - Predicted RUL: [[3.9581583]]\n",
      "1/1 [==============================] - 0s 67ms/step\n",
      "Image 1987.png - Predicted RUL: [[3.1433892]]\n",
      "1/1 [==============================] - 0s 74ms/step\n",
      "Image 349.png - Predicted RUL: [[6.4082346]]\n",
      "1/1 [==============================] - 0s 63ms/step\n",
      "Image 2179.png - Predicted RUL: [[3.6297042]]\n",
      "1/1 [==============================] - 0s 78ms/step\n",
      "Image 923.png - Predicted RUL: [[6.2311106]]\n",
      "1/1 [==============================] - 0s 62ms/step\n",
      "Image 2081.png - Predicted RUL: [[4.0813327]]\n",
      "1/1 [==============================] - 0s 70ms/step\n",
      "Image 3594.png - Predicted RUL: [[1.6129284]]\n",
      "1/1 [==============================] - 0s 60ms/step\n",
      "Image 1447.png - Predicted RUL: [[3.6613588]]\n",
      "1/1 [==============================] - 0s 72ms/step\n",
      "Image 1978.png - Predicted RUL: [[3.6598332]]\n",
      "1/1 [==============================] - 0s 73ms/step\n",
      "Image 2204.png - Predicted RUL: [[3.4797149]]\n",
      "1/1 [==============================] - 0s 63ms/step\n",
      "Image 3419.png - Predicted RUL: [[2.7325783]]\n",
      "1/1 [==============================] - 0s 63ms/step\n",
      "Image 2757.png - Predicted RUL: [[2.8549345]]\n",
      "1/1 [==============================] - 0s 47ms/step\n",
      "Image 2975.png - Predicted RUL: [[2.2945168]]\n",
      "1/1 [==============================] - 0s 60ms/step\n",
      "Image 1369.png - Predicted RUL: [[2.7934608]]\n",
      "1/1 [==============================] - 0s 63ms/step\n",
      "Image 1869.png - Predicted RUL: [[3.4098232]]\n",
      "1/1 [==============================] - 0s 73ms/step\n",
      "Image 2371.png - Predicted RUL: [[3.9285073]]\n",
      "1/1 [==============================] - 0s 74ms/step\n",
      "Image 1249.png - Predicted RUL: [[3.2767818]]\n",
      "1/1 [==============================] - 0s 80ms/step\n",
      "Image 286.png - Predicted RUL: [[6.0518646]]\n",
      "1/1 [==============================] - 0s 79ms/step\n",
      "Image 2597.png - Predicted RUL: [[1.2905312]]\n",
      "1/1 [==============================] - 0s 68ms/step\n",
      "Image 2265.png - Predicted RUL: [[3.3942556]]\n",
      "1/1 [==============================] - 0s 96ms/step\n",
      "Image 814.png - Predicted RUL: [[6.206914]]\n",
      "1/1 [==============================] - 0s 82ms/step\n",
      "Image 212.png - Predicted RUL: [[6.293029]]\n",
      "1/1 [==============================] - 0s 68ms/step\n",
      "Image 1615.png - Predicted RUL: [[3.4695728]]\n",
      "1/1 [==============================] - 0s 79ms/step\n",
      "Image 70.png - Predicted RUL: [[6.6270905]]\n",
      "1/1 [==============================] - 0s 79ms/step\n",
      "Image 3157.png - Predicted RUL: [[1.2611449]]\n",
      "1/1 [==============================] - 0s 84ms/step\n",
      "Image 122.png - Predicted RUL: [[6.2199793]]\n",
      "1/1 [==============================] - 0s 79ms/step\n",
      "Image 3506.png - Predicted RUL: [[2.8018565]]\n",
      "1/1 [==============================] - 0s 80ms/step\n",
      "Image 1546.png - Predicted RUL: [[3.7877336]]\n",
      "1/1 [==============================] - 0s 89ms/step\n",
      "Image 2987.png - Predicted RUL: [[1.8782443]]\n",
      "1/1 [==============================] - 0s 97ms/step\n",
      "Image 2289.png - Predicted RUL: [[3.3251603]]\n",
      "1/1 [==============================] - 0s 79ms/step\n",
      "Image 990.png - Predicted RUL: [[6.6543665]]\n",
      "1/1 [==============================] - 0s 90ms/step\n",
      "Image 1349.png - Predicted RUL: [[4.273011]]\n",
      "1/1 [==============================] - 0s 77ms/step\n",
      "Image 1148.png - Predicted RUL: [[6.3514442]]\n",
      "1/1 [==============================] - 0s 76ms/step\n",
      "Image 2224.png - Predicted RUL: [[3.8705742]]\n",
      "1/1 [==============================] - 0s 79ms/step\n",
      "Image 652.png - Predicted RUL: [[6.0673695]]\n",
      "1/1 [==============================] - 0s 85ms/step\n",
      "Image 3580.png - Predicted RUL: [[1.90069]]\n",
      "1/1 [==============================] - 0s 77ms/step\n",
      "Image 278.png - Predicted RUL: [[6.5708265]]\n",
      "1/1 [==============================] - 0s 82ms/step\n",
      "Image 2131.png - Predicted RUL: [[3.8819122]]\n",
      "1/1 [==============================] - 0s 84ms/step\n",
      "Image 2042.png - Predicted RUL: [[2.9522357]]\n",
      "1/1 [==============================] - 0s 80ms/step\n",
      "Image 2361.png - Predicted RUL: [[3.6799057]]\n",
      "1/1 [==============================] - 0s 79ms/step\n",
      "Image 3462.png - Predicted RUL: [[2.5355902]]\n",
      "1/1 [==============================] - 0s 85ms/step\n",
      "Image 1384.png - Predicted RUL: [[3.2789598]]\n",
      "1/1 [==============================] - 0s 78ms/step\n",
      "Image 1308.png - Predicted RUL: [[3.5174031]]\n",
      "1/1 [==============================] - 0s 83ms/step\n",
      "Image 344.png - Predicted RUL: [[6.7165613]]\n",
      "1/1 [==============================] - 0s 71ms/step\n",
      "Image 3009.png - Predicted RUL: [[3.8943617]]\n",
      "1/1 [==============================] - 0s 83ms/step\n",
      "Image 1215.png - Predicted RUL: [[3.3809133]]\n",
      "1/1 [==============================] - 0s 89ms/step\n",
      "Image 2701.png - Predicted RUL: [[1.1422908]]\n",
      "1/1 [==============================] - 0s 83ms/step\n",
      "Image 2016.png - Predicted RUL: [[4.118838]]\n",
      "1/1 [==============================] - 0s 79ms/step\n",
      "Image 811.png - Predicted RUL: [[7.02139]]\n",
      "1/1 [==============================] - 0s 62ms/step\n",
      "Image 2354.png - Predicted RUL: [[3.4968545]]\n",
      "1/1 [==============================] - 0s 63ms/step\n",
      "Image 726.png - Predicted RUL: [[6.488186]]\n",
      "1/1 [==============================] - 0s 68ms/step\n",
      "Image 1577.png - Predicted RUL: [[3.011528]]\n",
      "1/1 [==============================] - 0s 58ms/step\n",
      "Image 108.png - Predicted RUL: [[6.223179]]\n",
      "1/1 [==============================] - 0s 78ms/step\n",
      "Image 2446.png - Predicted RUL: [[2.9775398]]\n",
      "1/1 [==============================] - 0s 81ms/step\n",
      "Image 3424.png - Predicted RUL: [[3.194334]]\n",
      "1/1 [==============================] - 0s 76ms/step\n",
      "Image 3402.png - Predicted RUL: [[3.7310255]]\n",
      "1/1 [==============================] - 0s 79ms/step\n",
      "Image 1481.png - Predicted RUL: [[3.6554558]]\n",
      "1/1 [==============================] - 0s 55ms/step\n",
      "Image 2556.png - Predicted RUL: [[1.234287]]\n",
      "1/1 [==============================] - 0s 79ms/step\n",
      "Image 354.png - Predicted RUL: [[6.655033]]\n",
      "1/1 [==============================] - 0s 63ms/step\n",
      "Image 2962.png - Predicted RUL: [[1.7409241]]\n",
      "1/1 [==============================] - 0s 63ms/step\n",
      "Image 2391.png - Predicted RUL: [[3.6207397]]\n",
      "1/1 [==============================] - 0s 63ms/step\n",
      "Image 681.png - Predicted RUL: [[5.8871117]]\n",
      "1/1 [==============================] - 0s 68ms/step\n",
      "Image 320.png - Predicted RUL: [[6.3047104]]\n",
      "1/1 [==============================] - 0s 63ms/step\n",
      "Image 2640.png - Predicted RUL: [[2.4030771]]\n",
      "1/1 [==============================] - 0s 70ms/step\n",
      "Image 1684.png - Predicted RUL: [[2.7939882]]\n",
      "1/1 [==============================] - 0s 65ms/step\n",
      "Image 1299.png - Predicted RUL: [[3.0687954]]\n",
      "1/1 [==============================] - 0s 79ms/step\n",
      "Image 105.png - Predicted RUL: [[6.8257704]]\n",
      "1/1 [==============================] - 0s 78ms/step\n",
      "Image 2777.png - Predicted RUL: [[3.246663]]\n",
      "1/1 [==============================] - 0s 68ms/step\n",
      "Image 3049.png - Predicted RUL: [[1.7195189]]\n",
      "1/1 [==============================] - 0s 64ms/step\n",
      "Image 318.png - Predicted RUL: [[5.697296]]\n",
      "1/1 [==============================] - 0s 63ms/step\n",
      "Image 1374.png - Predicted RUL: [[3.5480957]]\n",
      "1/1 [==============================] - 0s 79ms/step\n",
      "Image 2600.png - Predicted RUL: [[2.2436662]]\n",
      "1/1 [==============================] - 0s 79ms/step\n",
      "Image 491.png - Predicted RUL: [[6.276078]]\n",
      "1/1 [==============================] - 0s 63ms/step\n",
      "Image 1265.png - Predicted RUL: [[4.5352182]]\n",
      "1/1 [==============================] - 0s 63ms/step\n",
      "Image 2876.png - Predicted RUL: [[1.3871427]]\n",
      "1/1 [==============================] - 0s 79ms/step\n",
      "Image 193.png - Predicted RUL: [[5.9114323]]\n",
      "1/1 [==============================] - 0s 79ms/step\n",
      "Image 1088.png - Predicted RUL: [[6.1156635]]\n",
      "1/1 [==============================] - 0s 78ms/step\n",
      "Image 959.png - Predicted RUL: [[5.7719107]]\n",
      "1/1 [==============================] - 0s 78ms/step\n",
      "Image 2230.png - Predicted RUL: [[4.2126646]]\n",
      "1/1 [==============================] - 0s 78ms/step\n",
      "Image 709.png - Predicted RUL: [[6.4738293]]\n",
      "1/1 [==============================] - 0s 63ms/step\n",
      "Image 433.png - Predicted RUL: [[6.024625]]\n",
      "1/1 [==============================] - 0s 72ms/step\n",
      "Image 3004.png - Predicted RUL: [[1.3733586]]\n",
      "1/1 [==============================] - 0s 63ms/step\n",
      "Image 1666.png - Predicted RUL: [[3.679407]]\n"
     ]
    }
   ],
   "source": [
    "import os\n",
    "import random\n",
    "\n",
    "image_dir = r'C:\\Users\\Sindhu\\3class_intensity'\n",
    "\n",
    "random_indices = random.sample(range(3600), 100)\n",
    "\n",
    "for i in random_indices:\n",
    "    image_path = os.path.join(image_dir, f\"{i}.png\")\n",
    "    \n",
    "    img = load_img(image_path, target_size=(100, 100), color_mode='grayscale')\n",
    "    img_array = img_to_array(img) / 255.0\n",
    "    input_image = np.expand_dims(img_array, axis=0)\n",
    "    \n",
    "    prediction = pre_trained_model.predict(input_image)\n",
    "    \n",
    "    print(f\"Image {i}.png - Predicted RUL:\", prediction)\n"
   ]
  },
  {
   "cell_type": "code",
   "execution_count": null,
   "id": "024ee42c",
   "metadata": {},
   "outputs": [],
   "source": []
  }
 ],
 "metadata": {
  "kernelspec": {
   "display_name": "Python 3.9.2 64-bit",
   "language": "python",
   "name": "python3"
  },
  "language_info": {
   "codemirror_mode": {
    "name": "ipython",
    "version": 3
   },
   "file_extension": ".py",
   "mimetype": "text/x-python",
   "name": "python",
   "nbconvert_exporter": "python",
   "pygments_lexer": "ipython3",
   "version": "3.9.2"
  },
  "vscode": {
   "interpreter": {
    "hash": "81794d4967e6c3204c66dcd87b604927b115b27c00565d3d43f05ba2f3a2cb0d"
   }
  }
 },
 "nbformat": 4,
 "nbformat_minor": 5
}
