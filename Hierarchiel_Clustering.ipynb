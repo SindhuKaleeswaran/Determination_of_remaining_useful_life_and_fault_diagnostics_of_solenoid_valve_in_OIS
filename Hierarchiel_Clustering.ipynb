{
 "cells": [
  {
   "cell_type": "code",
   "execution_count": null,
   "metadata": {},
   "outputs": [],
   "source": [
    "import numpy as np\n",
    "import matplotlib.pyplot as plt\n",
    "import pandas as pd\n",
    "from sklearn.cluster import AgglomerativeClustering\n",
    "from scipy.cluster.hierarchy import dendrogram, linkage\n",
    "from sklearn.decomposition import PCA\n",
    "\n",
    "# Load the data\n",
    "data = pd.read_csv('Datasetfor3sample.csv')\n",
    "X_original = data.iloc[:, 0:8].values\n",
    "\n",
    "# Perform PCA\n",
    "pca = PCA(n_components=2)\n",
    "X_pca = pca.fit_transform(X_original)\n",
    "\n",
    "# Perform hierarchical clustering\n",
    "model = AgglomerativeClustering(n_clusters=3, affinity='euclidean', linkage='ward')\n",
    "model.fit(X_pca)\n",
    "labels = model.labels_\n",
    "\n",
    "# Add cluster labels to the dataframe\n",
    "data['Cluster'] = labels\n",
    "\n",
    "# Rename clusters\n",
    "cluster_names = {0: 'EOL', 1: 'Healthy', 2: 'Defective Regime'}\n",
    "data['Cluster'] = data['Cluster'].map(cluster_names)\n",
    "\n",
    "# Jitter the data for visualization\n",
    "jitter = 1\n",
    "X_jittered = X_pca + np.random.uniform(-jitter, jitter, size=X_pca.shape)\n",
    "\n",
    "# Create scatter plot with legends for each cluster\n",
    "for cluster_label in np.unique(data['Cluster']):\n",
    "    cluster_mask = (data['Cluster'] == cluster_label)\n",
    "    plt.scatter(X_jittered[cluster_mask, 0], X_jittered[cluster_mask, 1], label=cluster_label, s=20, alpha=0.7)\n",
    "\n",
    "# Add title and legend\n",
    "plt.title('Hierarchical Clustering')\n",
    "plt.legend()\n",
    "plt.show()\n",
    "\n",
    "# Plot the hierarchical clustering dendrogram\n",
    "linkage_matrix = linkage(X_pca, 'ward')\n",
    "dendrogram(linkage_matrix)\n",
    "plt.title('Hierarchical Clustering Dendrogram')\n",
    "plt.show()\n",
    "\n",
    "# Save the clustered data\n",
    "data.to_csv('Clusteringfor3.csv', index=False)\n"
   ]
  }
 ],
 "metadata": {
  "language_info": {
   "name": "python"
  },
  "orig_nbformat": 4
 },
 "nbformat": 4,
 "nbformat_minor": 2
}
